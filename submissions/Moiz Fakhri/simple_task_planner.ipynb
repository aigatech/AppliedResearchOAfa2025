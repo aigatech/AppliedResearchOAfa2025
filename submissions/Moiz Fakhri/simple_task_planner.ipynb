{
 "cells": [
  {
   "cell_type": "markdown",
   "id": "b19daeb0",
   "metadata": {},
   "source": [
    "# Simple Task Planner Agent\n",
    "**Submission for AI@GT Applied Research**\n",
    "\n",
    "This project uses `google/flan-t5-base` to break down a high-level goal into a step-by-step plan. This demonstrates the core \"planning and reasoning\" capability needed for complex AI agents.\n"
   ]
  },
  {
   "cell_type": "code",
   "execution_count": null,
   "id": "f69fe877",
   "metadata": {},
   "outputs": [],
   "source": [
    "from transformers import pipeline\n",
    "\n",
    "# Note: The pipeline will automatically download and cache the model from Hugging Face\n",
    "# the first time this code is run. This may take a few minutes.\n",
    "print(\"Loading the planner model...\")\n",
    "planner = pipeline(\"text2text-generation\", model=\"google/flan-t5-base\")\n",
    "print(\"Model loaded successfully!\")\n"
   ]
  },
  {
   "cell_type": "code",
   "execution_count": null,
   "id": "f86ced4c",
   "metadata": {},
   "outputs": [],
   "source": [
    "def generate_plan(goal):\n",
    "    \"\"\"Takes a high-level goal and uses the LLM to generate a step-by-step plan.\"\"\"\n",
    "    prompt = f\"Break down the following goal into a numbered list of simple steps.\\n\\nGoal: {goal}\\n\\nPlan:\"\n",
    "\n",
    "    response = planner(prompt, max_length=256, num_beams=4, early_stopping=True)\n",
    "    plan = response[0]['generated_text']\n",
    "\n",
    "    print(f\"✅ Goal: {goal}\")\n",
    "    print(\"--------------------\")\n",
    "    print(f\"📝 Generated Plan:\\n{plan}\")\n",
    "    return plan\n"
   ]
  },
  {
   "cell_type": "code",
   "execution_count": null,
   "id": "0155e6a3",
   "metadata": {},
   "outputs": [],
   "source": [
    "# Test Case 1: Household Chore\n",
    "generate_plan(\"Do the laundry\")\n"
   ]
  },
  {
   "cell_type": "code",
   "execution_count": null,
   "id": "349f0ae7",
   "metadata": {},
   "outputs": [],
   "source": [
    "# Test Case 2: Multi-step Hobby Task\n",
    "generate_plan(\"Plant a small herb garden in a pot\")\n"
   ]
  },
  {
   "cell_type": "code",
   "execution_count": null,
   "id": "de99d6ad",
   "metadata": {},
   "outputs": [],
   "source": [
    "# Test Case 3: Academic Task\n",
    "generate_plan(\"Prepare for a job interview\")\n"
   ]
  }
 ],
 "metadata": {
  "language_info": {
   "name": "python"
  }
 },
 "nbformat": 4,
 "nbformat_minor": 5
}
