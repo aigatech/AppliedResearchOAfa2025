{
 "cells": [
  {
   "cell_type": "markdown",
   "id": "b19daeb0",
   "metadata": {},
   "source": [
    "# Simple Task Planner Agent\n",
    "**Submission for AI@GT Applied Research**\n",
    "\n",
    "This project uses `google/flan-t5-base` to break down a high-level goal into a step-by-step plan. This demonstrates the core \"planning and reasoning\" capability needed for complex AI agents.\n"
   ]
  },
  {
   "cell_type": "code",
   "execution_count": 1,
   "id": "f69fe877",
   "metadata": {},
   "outputs": [
    {
     "name": "stderr",
     "output_type": "stream",
     "text": [
      "/Users/moizfakhri/Developer/Projects/AppliedResearchOAf2025/venv/lib/python3.12/site-packages/tqdm/auto.py:21: TqdmWarning: IProgress not found. Please update jupyter and ipywidgets. See https://ipywidgets.readthedocs.io/en/stable/user_install.html\n",
      "  from .autonotebook import tqdm as notebook_tqdm\n"
     ]
    },
    {
     "name": "stdout",
     "output_type": "stream",
     "text": [
      "Loading the planner model...\n"
     ]
    },
    {
     "name": "stderr",
     "output_type": "stream",
     "text": [
      "Device set to use mps:0\n"
     ]
    },
    {
     "name": "stdout",
     "output_type": "stream",
     "text": [
      "Model loaded successfully!\n"
     ]
    }
   ],
   "source": [
    "from transformers import pipeline\n",
    "\n",
    "# Note: The pipeline will automatically download and cache the model from Hugging Face\n",
    "# the first time this code is run. This may take a few minutes.\n",
    "print(\"Loading the planner model...\")\n",
    "planner = pipeline(\"text2text-generation\", model=\"google/flan-t5-base\")\n",
    "print(\"Model loaded successfully!\")\n"
   ]
  },
  {
   "cell_type": "code",
   "execution_count": null,
   "id": "f86ced4c",
   "metadata": {},
   "outputs": [],
   "source": [
    "def generate_plan(goal):\n",
    "    \"\"\"Takes a high-level goal and uses the LLM to generate a step-by-step plan.\"\"\"\n",
    "    # Use a prompt that encourages the model to think about the process\n",
    "    prompt = f\"To {goal}, you need to:\"\n",
    "\n",
    "    response = planner(\n",
    "        prompt, \n",
    "        max_new_tokens=80, \n",
    "        num_beams=2, \n",
    "        do_sample=False,\n",
    "        repetition_penalty=2.0,\n",
    "        no_repeat_ngram_size=2\n",
    "    )\n",
    "    plan = response[0]['generated_text']\n",
    "\n",
    "    print(f\"✅ Goal: {goal}\")\n",
    "    print(\"--------------------\")\n",
    "    print(f\"📝 Generated Plan:\\n{plan}\")\n",
    "    return plan\n"
   ]
  },
  {
   "cell_type": "code",
   "execution_count": 3,
   "id": "0155e6a3",
   "metadata": {},
   "outputs": [
    {
     "name": "stdout",
     "output_type": "stream",
     "text": [
      "✅ Goal: Do the laundry\n",
      "--------------------\n",
      "📝 Generated Plan:\n",
      "Wash your clothes in the washing machine. Wash your clothes in the dryer.\n"
     ]
    },
    {
     "data": {
      "text/plain": [
       "'Wash your clothes in the washing machine. Wash your clothes in the dryer.'"
      ]
     },
     "execution_count": 3,
     "metadata": {},
     "output_type": "execute_result"
    }
   ],
   "source": [
    "# Test Case 1: Household Chore\n",
    "generate_plan(\"Do the laundry\")\n"
   ]
  },
  {
   "cell_type": "code",
   "execution_count": 4,
   "id": "349f0ae7",
   "metadata": {},
   "outputs": [
    {
     "name": "stdout",
     "output_type": "stream",
     "text": [
      "✅ Goal: Plant a small herb garden in a pot\n",
      "--------------------\n",
      "📝 Generated Plan:\n",
      "Plant the herb garden in a pot with a pot that is at least 6 inches (5.1 cm) deep. Place the pot in the sun and cover it with a layer of potting soil.\n"
     ]
    },
    {
     "data": {
      "text/plain": [
       "'Plant the herb garden in a pot with a pot that is at least 6 inches (5.1 cm) deep. Place the pot in the sun and cover it with a layer of potting soil.'"
      ]
     },
     "execution_count": 4,
     "metadata": {},
     "output_type": "execute_result"
    }
   ],
   "source": [
    "# Test Case 2: Multi-step Hobby Task\n",
    "generate_plan(\"Plant a small herb garden in a pot\")\n"
   ]
  },
  {
   "cell_type": "code",
   "execution_count": 5,
   "id": "de99d6ad",
   "metadata": {
    "vscode": {
     "languageId": "plaintext"
    }
   },
   "outputs": [
    {
     "name": "stdout",
     "output_type": "stream",
     "text": [
      "✅ Goal: Prepare for a job interview\n",
      "--------------------\n",
      "📝 Generated Plan:\n",
      "Interviews are a great way to get a sense of what you're looking for. You can also ask questions about your qualifications and experience.\n"
     ]
    },
    {
     "data": {
      "text/plain": [
       "\"Interviews are a great way to get a sense of what you're looking for. You can also ask questions about your qualifications and experience.\""
      ]
     },
     "execution_count": 5,
     "metadata": {},
     "output_type": "execute_result"
    }
   ],
   "source": [
    "# Test Case 3: Academic Task\n",
    "generate_plan(\"Prepare for a job interview\")\n"
   ]
  },
  {
   "cell_type": "code",
   "execution_count": 6,
   "id": "fb0cb745-2861-4f20-b052-077c5e659057",
   "metadata": {},
   "outputs": [
    {
     "name": "stdout",
     "output_type": "stream",
     "text": [
      "✅ Goal: prepare for a club interview\n",
      "--------------------\n",
      "📝 Generated Plan:\n",
      "You should be prepared to answer questions about your club's history, current events, and current events. You should also be prepared to answer questions about your club's history, current events, and current events.\n"
     ]
    },
    {
     "data": {
      "text/plain": [
       "\"You should be prepared to answer questions about your club's history, current events, and current events. You should also be prepared to answer questions about your club's history, current events, and current events.\""
      ]
     },
     "execution_count": 6,
     "metadata": {},
     "output_type": "execute_result"
    }
   ],
   "source": [
    "generate_plan(\"prepare for a club interview\")"
   ]
  },
  {
   "cell_type": "code",
   "execution_count": 7,
   "id": "d9a4e986-6449-43f4-900c-d0d57ef1aa53",
   "metadata": {},
   "outputs": [
    {
     "name": "stdout",
     "output_type": "stream",
     "text": [
      "✅ Goal: refill water bottle\n",
      "--------------------\n",
      "📝 Generated Plan:\n",
      "Place the water bottle in the freezer and turn it on.\n"
     ]
    },
    {
     "data": {
      "text/plain": [
       "'Place the water bottle in the freezer and turn it on.'"
      ]
     },
     "execution_count": 7,
     "metadata": {},
     "output_type": "execute_result"
    }
   ],
   "source": [
    "generate_plan(\"refill water bottle\")"
   ]
  },
  {
   "cell_type": "code",
   "execution_count": 8,
   "id": "68325f34-9c16-464d-848f-4c693366c08b",
   "metadata": {},
   "outputs": [
    {
     "name": "stdout",
     "output_type": "stream",
     "text": [
      "✅ Goal: restart computer\n",
      "--------------------\n",
      "📝 Generated Plan:\n",
      "Press the power button on your computer. Press the power button on your computer. Press the power button on your computer. Press the power button on your computer.\n"
     ]
    },
    {
     "data": {
      "text/plain": [
       "'Press the power button on your computer. Press the power button on your computer. Press the power button on your computer. Press the power button on your computer.'"
      ]
     },
     "execution_count": 8,
     "metadata": {},
     "output_type": "execute_result"
    }
   ],
   "source": [
    "generate_plan(\"restart computer\")"
   ]
  },
  {
   "cell_type": "code",
   "execution_count": null,
   "id": "c43c9d2b-cb8c-4a46-afd8-22ad2c2e69d8",
   "metadata": {},
   "outputs": [],
   "source": []
  }
 ],
 "metadata": {
  "kernelspec": {
   "display_name": "Python (venv)",
   "language": "python",
   "name": "venv"
  },
  "language_info": {
   "codemirror_mode": {
    "name": "ipython",
    "version": 3
   },
   "file_extension": ".py",
   "mimetype": "text/x-python",
   "name": "python",
   "nbconvert_exporter": "python",
   "pygments_lexer": "ipython3",
   "version": "3.12.7"
  }
 },
 "nbformat": 4,
 "nbformat_minor": 5
}
